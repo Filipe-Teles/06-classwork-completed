{
 "cells": [
  {
   "cell_type": "markdown",
   "id": "f864a617-c2f2-4790-9a3b-634d614b2992",
   "metadata": {},
   "source": [
    "- **ffmpeg** editing video, cropping video, doing... anything with video that already exists on your computer\n",
    "- **yt-dlp** downloads videos from youtube, originally called youtube-dl\n",
    "- **imagemagick** / `magick` - used for manipulating images"
   ]
  },
  {
   "cell_type": "markdown",
   "id": "7dad2dd6-1439-4af1-83a9-261f37da676e",
   "metadata": {},
   "source": [
    "The endpoint I'm interested in is listed as `https://api.example.com/{apikey}/search.json`. My API key is `31337`, and I would like to include two parameters in my request: the \"q\" parameter should be \"elections\" and \"year\" should be \"2024\". Please write out the URL I will be requesting."
   ]
  },
  {
   "cell_type": "code",
   "execution_count": null,
   "id": "3475e706-dc99-4526-94df-838eefedbbc0",
   "metadata": {},
   "outputs": [],
   "source": [
    "https://api.example.com/31337/search.json?q=elections&year=2024"
   ]
  },
  {
   "cell_type": "code",
   "execution_count": 2,
   "id": "62122f79-0466-4ac6-8d36-538af42116ed",
   "metadata": {},
   "outputs": [],
   "source": [
    "data = {\n",
    "    'results': [\n",
    "        {\n",
    "            'flavor': 'vanilla',\n",
    "            'measurement': 'pint'\n",
    "        },\n",
    "        {\n",
    "            'flavor': 'chocolate',\n",
    "            'measurement': 'quart'\n",
    "        }\n",
    "    ]\n",
    "}"
   ]
  },
  {
   "cell_type": "code",
   "execution_count": 13,
   "id": "d2b6c4bb-6e63-43cd-a31c-56e04af519f8",
   "metadata": {},
   "outputs": [
    {
     "name": "stdout",
     "output_type": "stream",
     "text": [
      "vanilla\n",
      "chocolate\n"
     ]
    }
   ],
   "source": [
    "for flavor in data['results']:\n",
    "    print(flavor['flavor'])"
   ]
  },
  {
   "cell_type": "code",
   "execution_count": 5,
   "id": "e185f643-9f9c-4561-890f-cdae5a1d1856",
   "metadata": {},
   "outputs": [
    {
     "name": "stdout",
     "output_type": "stream",
     "text": [
      "------\n",
      "vanilla\n",
      "------\n",
      "chocolate\n"
     ]
    }
   ],
   "source": [
    "for flavor in data['results']:\n",
    "    print(\"------\")\n",
    "    print(flavor['flavor'])"
   ]
  },
  {
   "cell_type": "code",
   "execution_count": 8,
   "id": "5c9b14a0-4768-4565-bdae-b4431f4a5896",
   "metadata": {},
   "outputs": [
    {
     "name": "stdout",
     "output_type": "stream",
     "text": [
      "vanilla\n",
      "chocolate\n"
     ]
    }
   ],
   "source": [
    "for flavor_info in data['results']:\n",
    "    print(flavor_info['flavor'])"
   ]
  },
  {
   "cell_type": "code",
   "execution_count": 10,
   "id": "8f324995-57ec-4edb-957b-438699a8208a",
   "metadata": {},
   "outputs": [],
   "source": [
    "b = flavors[0]"
   ]
  },
  {
   "cell_type": "code",
   "execution_count": 9,
   "id": "8207e2c4-d03a-407f-8675-bdf2b382c824",
   "metadata": {},
   "outputs": [
    {
     "name": "stdout",
     "output_type": "stream",
     "text": [
      "vanilla\n",
      "chocolate\n"
     ]
    }
   ],
   "source": [
    "for a in data['results']:\n",
    "    print(a['flavor'])"
   ]
  },
  {
   "cell_type": "code",
   "execution_count": 7,
   "id": "f824830e-68b6-44a0-948f-9000d8d6bc5f",
   "metadata": {},
   "outputs": [
    {
     "name": "stdout",
     "output_type": "stream",
     "text": [
      "vanilla\n",
      "chocolate\n"
     ]
    }
   ],
   "source": [
    "flavors = data['results']\n",
    "\n",
    "for flavor in flavors:\n",
    "    print(flavor['flavor'])"
   ]
  },
  {
   "cell_type": "code",
   "execution_count": 11,
   "id": "134b4576-783a-43c0-8c3f-049a1c112460",
   "metadata": {},
   "outputs": [
    {
     "name": "stdout",
     "output_type": "stream",
     "text": [
      "0\n",
      "1\n",
      "2\n",
      "3\n",
      "4\n"
     ]
    }
   ],
   "source": [
    "for i in range(5):\n",
    "    print(i)"
   ]
  },
  {
   "cell_type": "code",
   "execution_count": null,
   "id": "628892bc-cb24-4272-ad23-98df22307937",
   "metadata": {},
   "outputs": [],
   "source": [
    "for flavor in data['results']:\n",
    "    print(flavor['flavor'])"
   ]
  },
  {
   "cell_type": "code",
   "execution_count": null,
   "id": "d39c36a5-ff5c-4dd7-a684-c977e60a501a",
   "metadata": {},
   "outputs": [],
   "source": []
  }
 ],
 "metadata": {
  "kernelspec": {
   "display_name": "Python 3 (ipykernel)",
   "language": "python",
   "name": "python3"
  },
  "language_info": {
   "codemirror_mode": {
    "name": "ipython",
    "version": 3
   },
   "file_extension": ".py",
   "mimetype": "text/x-python",
   "name": "python",
   "nbconvert_exporter": "python",
   "pygments_lexer": "ipython3",
   "version": "3.10.13"
  }
 },
 "nbformat": 4,
 "nbformat_minor": 5
}
